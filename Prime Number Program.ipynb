{
 "cells": [
  {
   "cell_type": "markdown",
   "id": "aa3ad1c8",
   "metadata": {},
   "source": [
    " # Prime number program using python without and function..\n",
    " "
   ]
  },
  {
   "cell_type": "code",
   "execution_count": null,
   "id": "032f4662",
   "metadata": {},
   "outputs": [],
   "source": [
    "n = int(input('enter the number : '))\n",
    "for i in range(2,n):\n",
    "    \n",
    "    if n%i==0:\n",
    "        break \n",
    "    i  = i+1\n",
    "    \n",
    "if i==n:\n",
    "    print('prime number')\n",
    "else:\n",
    "    print('number is not prime')"
   ]
  },
  {
   "cell_type": "markdown",
   "id": "1fc319df",
   "metadata": {},
   "source": [
    "# Prime number program using funtion in python "
   ]
  },
  {
   "cell_type": "code",
   "execution_count": 20,
   "id": "56799f31",
   "metadata": {},
   "outputs": [
    {
     "name": "stdout",
     "output_type": "stream",
     "text": [
      "Yes, given number is prime\n"
     ]
    }
   ],
   "source": [
    "def is_number_prime(n, i=2):\n",
    "\n",
    "    if n <= 2:\n",
    "        return True if n == 2 else False\n",
    "    if n % i == 0:\n",
    "        return False\n",
    "    if i * i > n:\n",
    "        return True\n",
    "\n",
    "    return is_number_prime(n, i + 1)\n",
    "number = 11\n",
    "\n",
    "if is_number_prime(number):\n",
    "    print(\"Yes, given number is prime\")\n",
    "else:\n",
    "    print(\"No, given number is not prime\")"
   ]
  },
  {
   "cell_type": "markdown",
   "id": "c04254ac",
   "metadata": {},
   "source": [
    "# First N prime number is python "
   ]
  },
  {
   "cell_type": "code",
   "execution_count": 26,
   "id": "61ce4495",
   "metadata": {},
   "outputs": [
    {
     "name": "stdout",
     "output_type": "stream",
     "text": [
      "2\n",
      "3\n",
      "5\n",
      "7\n",
      "11\n"
     ]
    }
   ],
   "source": [
    "def number(x):\n",
    "    i=1\n",
    "    for i in range(1, x+1):\n",
    "        c = 0\n",
    "        for j in range(1, i+1):\n",
    "            a = i % j\n",
    "            if a == 0:\n",
    "                c = c + 1\n",
    "\n",
    "        if c == 2:\n",
    "            print(i)\n",
    "        else:\n",
    "            k = i - 1\n",
    "\n",
    "        i = i + 1\n",
    "        \n",
    "number(12)"
   ]
  },
  {
   "cell_type": "markdown",
   "id": "ce157d4a",
   "metadata": {},
   "source": [
    "# now if I want to print prime number using funciton and prime number between two given number"
   ]
  },
  {
   "cell_type": "code",
   "execution_count": null,
   "id": "5fd5eada",
   "metadata": {},
   "outputs": [],
   "source": [
    "ef number(x,y):\n",
    "    \n",
    "    for i in range(x, y+1):\n",
    "        c = 0\n",
    "        for j in range(1, i+1):\n",
    "            a = i % j\n",
    "            if a == 0:\n",
    "                c = c + 1\n",
    "\n",
    "        if c == 2:\n",
    "            print(i)\n",
    "        else:\n",
    "            k = i - 1\n",
    "\n",
    "        i = i + 1\n",
    "        \n",
    "number(10,50)"
   ]
  }
 ],
 "metadata": {
  "kernelspec": {
   "display_name": "Python 3 (ipykernel)",
   "language": "python",
   "name": "python3"
  },
  "language_info": {
   "codemirror_mode": {
    "name": "ipython",
    "version": 3
   },
   "file_extension": ".py",
   "mimetype": "text/x-python",
   "name": "python",
   "nbconvert_exporter": "python",
   "pygments_lexer": "ipython3",
   "version": "3.9.12"
  }
 },
 "nbformat": 4,
 "nbformat_minor": 5
}
